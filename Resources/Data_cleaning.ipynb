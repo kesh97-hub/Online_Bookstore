{
  "nbformat": 4,
  "nbformat_minor": 0,
  "metadata": {
    "colab": {
      "provenance": []
    },
    "kernelspec": {
      "name": "python3",
      "display_name": "Python 3"
    },
    "language_info": {
      "name": "python"
    }
  },
  "cells": [
    {
      "cell_type": "code",
      "execution_count": 494,
      "metadata": {
        "id": "xJCffFP8fDny"
      },
      "outputs": [],
      "source": [
        "import pandas as pd\n",
        "\n",
        "excel_file = pd.ExcelFile('Bookshop.xlsx')\n",
        "\n",
        "for sheet_name in excel_file.sheet_names:\n",
        "    df = excel_file.parse(sheet_name)\n",
        "    df.to_csv(f'./Bookshop_dataset/{sheet_name}.csv', index=False)\n"
      ]
    },
    {
      "cell_type": "code",
      "source": [
        "df1 = pd.read_csv('/content/Bookshop_dataset/Book.csv')\n",
        "df2 = pd.read_csv('/content/Bookshop_dataset/Award.csv')\n",
        "\n",
        "df2['Year Won'] = df2['Year Won'] - 170\n",
        "df2['Year Won'] = df2['Year Won'].astype(int)\n",
        "\n",
        "df2 = pd.merge(df1, df2, on='Title', how = 'inner')\n",
        "df2.drop(columns=['AuthID', 'Title'], axis = 1, inplace=True)\n",
        "\n",
        "# df1['BookID'] = df1['BookID'].str.replace(r'\\D', '', regex=True)\n",
        "# df1['BookID'] = df1['BookID'].astype(int)\n",
        "\n",
        "# df1 = df1.drop(['AuthID'],axis=1)\n",
        "\n",
        "# df = pd.merge(df1, df2, on='Title', how='inner')\n",
        "# df = df.drop(['Title'],axis=1)\n",
        "df2.to_csv('/content/Bookshop_dataset/Awards_modified.csv', index=False)"
      ],
      "metadata": {
        "id": "qYt_pzAJg_3Q"
      },
      "execution_count": 495,
      "outputs": []
    },
    {
      "cell_type": "code",
      "source": [
        "df = pd.read_csv('/content/Bookshop_dataset/Publisher.csv')\n",
        "df['Year Established'] = df['Year Established'] - 170\n",
        "df['Year Established'] = df['Year Established'].astype(int)\n",
        "df['Marketing Spend'] = df['Marketing Spend'].astype(int)\n",
        "df.to_csv('/content/Bookshop_dataset/Publishers_modified.csv', index=False)"
      ],
      "metadata": {
        "id": "OHINpkHliJcS"
      },
      "execution_count": 496,
      "outputs": []
    },
    {
      "cell_type": "code",
      "source": [
        "df['Year Established'].max()\n",
        "# df.columns"
      ],
      "metadata": {
        "colab": {
          "base_uri": "https://localhost:8080/"
        },
        "id": "7OQos-mapXOW",
        "outputId": "afb7094c-5415-4a81-809b-e8a578b4a7f8"
      },
      "execution_count": 497,
      "outputs": [
        {
          "output_type": "execute_result",
          "data": {
            "text/plain": [
              "1983"
            ]
          },
          "metadata": {},
          "execution_count": 497
        }
      ]
    },
    {
      "cell_type": "code",
      "source": [
        "import re\n",
        "df = pd.read_csv('/content/Bookshop_dataset/Edition.csv')\n",
        "# df['BookID'] = df['BookID'].str.replace(r'\\D', '', regex=True)\n",
        "df['Publication Date'] = pd.to_datetime(df['Publication Date'])\n",
        "df['Publication Date'] = df['Publication Date'] - pd.offsets.DateOffset(years=170)\n",
        "# df['ISBN'] = df['ISBN'].apply(lambda x: re.sub(r'-', '', str(x)))\n",
        "\n",
        "# df['BookID'] = df['BookID'].astype(int)\n",
        "# df['ISBN'] = df['ISBN'].astype(int)\n",
        "df['Pages'] = df['Pages'].astype(int)\n",
        "df['Print Run Size (k)'] = df['Print Run Size (k)'].astype(int)\n",
        "df['Price'] = df['Price'].astype(float)\n",
        "\n",
        "df.to_csv('/content/Bookshop_dataset/Editions_modified.csv', index=False)"
      ],
      "metadata": {
        "id": "BeA3IFRxmslw"
      },
      "execution_count": 498,
      "outputs": []
    },
    {
      "cell_type": "code",
      "source": [
        "df['Publication Date'].max()"
      ],
      "metadata": {
        "colab": {
          "base_uri": "https://localhost:8080/"
        },
        "id": "iKKhJ_D3p8Pp",
        "outputId": "af6bb0b6-302c-4588-a555-4fa123ef33db"
      },
      "execution_count": 499,
      "outputs": [
        {
          "output_type": "execute_result",
          "data": {
            "text/plain": [
              "Timestamp('2022-09-18 00:00:00')"
            ]
          },
          "metadata": {},
          "execution_count": 499
        }
      ]
    },
    {
      "cell_type": "code",
      "source": [
        "df = pd.read_csv('/content/Bookshop_dataset/Author.csv')\n",
        "df['Birthday'] = pd.to_datetime(df['Birthday'])\n",
        "print(df['Birthday'].max(), df['Birthday'].min())\n",
        "df['Birthday'] = df['Birthday'] - pd.offsets.DateOffset(years=238)\n",
        "# df['AuthID'] = df['AuthID'].str.replace(r'\\D', '', regex=True)\n",
        "# df['AuthID'] = df['AuthID'].astype(int)\n",
        "df['Hrs Writing per Day'] = df['Hrs Writing per Day'].astype(float)\n",
        "df.to_csv('/content/Bookshop_dataset/Authors_modified.csv', index=False)"
      ],
      "metadata": {
        "id": "YWpOdVqDncqY",
        "colab": {
          "base_uri": "https://localhost:8080/"
        },
        "outputId": "257f4fe7-631e-4065-b0c5-8802ca044d2a"
      },
      "execution_count": 500,
      "outputs": [
        {
          "output_type": "stream",
          "name": "stdout",
          "text": [
            "2238-01-21 00:00:00 2120-03-18 00:00:00\n"
          ]
        }
      ]
    },
    {
      "cell_type": "code",
      "source": [
        "df['Birthday'].max()"
      ],
      "metadata": {
        "colab": {
          "base_uri": "https://localhost:8080/"
        },
        "id": "4CEJtFbzqKwK",
        "outputId": "c43cb5af-e71e-4f48-e817-aa6464d9c509"
      },
      "execution_count": 501,
      "outputs": [
        {
          "output_type": "execute_result",
          "data": {
            "text/plain": [
              "Timestamp('2000-01-21 00:00:00')"
            ]
          },
          "metadata": {},
          "execution_count": 501
        }
      ]
    },
    {
      "cell_type": "code",
      "source": [
        "df['Birthday'].min()"
      ],
      "metadata": {
        "colab": {
          "base_uri": "https://localhost:8080/"
        },
        "id": "CjNyxnaDqksS",
        "outputId": "9d8ac0dc-6a8f-4820-9a89-7d51286e3485"
      },
      "execution_count": 502,
      "outputs": [
        {
          "output_type": "execute_result",
          "data": {
            "text/plain": [
              "Timestamp('1882-03-18 00:00:00')"
            ]
          },
          "metadata": {},
          "execution_count": 502
        }
      ]
    },
    {
      "cell_type": "code",
      "source": [
        "df1 = pd.read_csv('/content/Bookshop_dataset/Sales Q1.csv')\n",
        "df2 = pd.read_csv('/content/Bookshop_dataset/Sales Q2.csv')\n",
        "df3 = pd.read_csv('/content/Bookshop_dataset/Sales Q3.csv')\n",
        "df4 = pd.read_csv('/content/Bookshop_dataset/Sales Q4.csv')\n",
        "concatenated_df = pd.concat([df1, df2, df3, df4], ignore_index=True)\n",
        "concatenated_df.to_csv('/content/Bookshop_dataset/Sales_modified.csv', index=False)"
      ],
      "metadata": {
        "id": "kE_zxOAZn1Ym"
      },
      "execution_count": 503,
      "outputs": []
    },
    {
      "cell_type": "markdown",
      "source": [],
      "metadata": {
        "id": "D3WpWruwnuFy"
      }
    },
    {
      "cell_type": "code",
      "source": [
        "import re\n",
        "df = pd.read_csv('/content/Bookshop_dataset/Sales_modified.csv')\n",
        "df['Sale Date'] = pd.to_datetime(df['Sale Date'])\n",
        "print(df['Sale Date'].max(), df['Sale Date'].min())\n",
        "df['Sale Date'] = df['Sale Date'] - pd.offsets.DateOffset(years=170)\n",
        "# df['ItemID'] = df['ItemID'].apply(lambda x: re.sub(r'-', '', str(x)))\n",
        "# df['OrderID'] = df['OrderID'].apply(lambda x: re.sub(r'-', '', str(x)))\n",
        "# df['ISBN'] = df['ISBN'].apply(lambda x: re.sub(r'-', '', str(x)))\n",
        "\n",
        "# df['OrderID'] = df['OrderID'].astype(int)\n",
        "# df['ISBN'] = df['ISBN'].astype(int)\n",
        "# df['ItemID'] = df['ItemID'].astype(int)\n",
        "df['Discount'] = df['Discount'].astype(float)\n",
        "\n",
        "df.to_csv('/content/Bookshop_dataset/Sales_modified.csv', index=False)"
      ],
      "metadata": {
        "id": "OM0ucckwpJwZ",
        "colab": {
          "base_uri": "https://localhost:8080/"
        },
        "outputId": "13ecca47-afae-4b83-f1ad-44027cba4cb9"
      },
      "execution_count": 504,
      "outputs": [
        {
          "output_type": "stream",
          "name": "stdout",
          "text": [
            "2193-12-31 00:00:00 2193-01-02 00:00:00\n"
          ]
        }
      ]
    },
    {
      "cell_type": "code",
      "source": [
        "print(df['Sale Date'].max(), df['Sale Date'].min())"
      ],
      "metadata": {
        "colab": {
          "base_uri": "https://localhost:8080/"
        },
        "id": "R26zSs7Rq62j",
        "outputId": "cf06396e-f747-400e-caf6-3517b703d6eb"
      },
      "execution_count": 505,
      "outputs": [
        {
          "output_type": "stream",
          "name": "stdout",
          "text": [
            "2023-12-31 00:00:00 2023-01-02 00:00:00\n"
          ]
        }
      ]
    },
    {
      "cell_type": "code",
      "source": [
        "df1 = pd.read_csv('/content/Bookshop_dataset/Sales_modified.csv')\n",
        "df2 = df1.copy()\n",
        "\n",
        "df1.drop(columns=['ItemID', 'ISBN', 'Discount'], axis = 1, inplace = True)\n",
        "df1.drop_duplicates(subset=['OrderID'], inplace = True)\n",
        "df2.drop(columns=['Sale Date'], axis = 1, inplace = True)\n",
        "\n",
        "df1.to_csv('/content/Bookshop_dataset/Orders.csv', index=False)\n",
        "df2.to_csv('/content/Bookshop_dataset/Items.csv', index=False)"
      ],
      "metadata": {
        "id": "uMQHkKyBslJ8"
      },
      "execution_count": 506,
      "outputs": []
    },
    {
      "cell_type": "code",
      "source": [
        "df1 = pd.read_csv('/content/Bookshop_dataset/Book.csv')\n",
        "df2 = pd.read_csv('/content/Bookshop_dataset/Info.csv')\n",
        "\n",
        "# df1['BookID'] = df1['BookID'].str.replace(r'\\D', '', regex=True)\n",
        "# df1['AuthID'] = df1['AuthID'].str.replace(r'\\D', '', regex=True)\n",
        "# df1['BookID'] = df1['BookID'].astype(int)\n",
        "# df1['AuthID'] = df1['AuthID'].astype(int)\n",
        "\n",
        "# df2 = df2.drop(['BookID1'],axis=1)\n",
        "# df2.rename(columns={'BookID2': 'BookID'}, inplace=True)\n",
        "# df2['BookID'] = df2['BookID1'] + df2['BookID2']\n",
        "df2['BookID'] = df2['BookID1'].astype(str) + df2['BookID2'].astype(str)\n",
        "df2 = df2.drop(['BookID1'],axis=1)\n",
        "df2 = df2.drop(['BookID2'],axis=1)\n",
        "\n",
        "df = pd.merge(df1, df2, on='BookID', how='inner')\n",
        "\n",
        "df['Volume Number'] = pd.to_numeric(df['Volume Number'], errors='coerce')\n",
        "\n",
        "df.to_csv('/content/Bookshop_dataset/Books_modified.csv', index=False)"
      ],
      "metadata": {
        "id": "ocTCxQq5AvbA"
      },
      "execution_count": 507,
      "outputs": []
    },
    {
      "cell_type": "code",
      "source": [
        "df = pd.read_csv('/content/Bookshop_dataset/Ratings.csv')\n",
        "# df['BookID'] = df['BookID'].str.replace(r'\\D', '', regex=True)\n",
        "# df['BookID'] = df['BookID'].astype(int)\n",
        "df['Rating'] = df['Rating'].astype(int)\n",
        "df = df[df['BookID'] != 'CH392']\n",
        "df.reset_index(drop=True, inplace=True)\n",
        "# df['ReviewerID'] = df['ReviewerID'].astype(int)\n",
        "# df['ReviewID'] = df['ReviewID'].astype(int)\n",
        "df.to_csv('/content/Bookshop_dataset/Ratings_modified.csv', index=False)"
      ],
      "metadata": {
        "id": "ZHSPjjIgrYw1"
      },
      "execution_count": 508,
      "outputs": []
    },
    {
      "cell_type": "code",
      "source": [
        "expected_indices = range(df.index.min(), df.index.max() + 1)\n",
        "\n",
        "# Find the missing indices by comparing the expected indices with the actual indices in the DataFrame\n",
        "missing_indices = [index for index in expected_indices if index not in df.index]\n",
        "\n",
        "print(\"Missing indices:\", missing_indices)"
      ],
      "metadata": {
        "colab": {
          "base_uri": "https://localhost:8080/"
        },
        "id": "9qH9Wphm1LOT",
        "outputId": "e6ab8391-917e-44cd-b8eb-f0f019efc078"
      },
      "execution_count": 509,
      "outputs": [
        {
          "output_type": "stream",
          "name": "stdout",
          "text": [
            "Missing indices: []\n"
          ]
        }
      ]
    },
    {
      "cell_type": "code",
      "source": [
        "df = pd.read_csv('/content/Bookshop_dataset/Checkouts.csv')\n",
        "# df['BookID'] = df['BookID'].str.replace(r'\\D', '', regex=True)\n",
        "\n",
        "# df['BookID'] = df['BookID'].astype(int)\n",
        "df['CheckoutMonth'] = df['CheckoutMonth'].astype(int)\n",
        "df['Number of Checkouts'] = df['Number of Checkouts'].astype(int)\n",
        "df = df[df['BookID'] != 'CH392']\n",
        "df.reset_index(drop=True, inplace=True)\n",
        "\n",
        "df['checkout_id'] = range(1001, 1001 + len(df))\n",
        "\n",
        "df.to_csv('/content/Bookshop_dataset/Checkouts_modified.csv', index=False)"
      ],
      "metadata": {
        "id": "XCRE8U8gshks"
      },
      "execution_count": 510,
      "outputs": []
    },
    {
      "cell_type": "code",
      "source": [
        "df.head()"
      ],
      "metadata": {
        "colab": {
          "base_uri": "https://localhost:8080/",
          "height": 206
        },
        "id": "QkOqN6_Dvtb8",
        "outputId": "01ce3236-4d06-40cd-adeb-5b5eef2e1871"
      },
      "execution_count": 511,
      "outputs": [
        {
          "output_type": "execute_result",
          "data": {
            "text/plain": [
              "  BookID  CheckoutMonth  Number of Checkouts  checkout_id\n",
              "0  AD222              1                   40         1001\n",
              "1  AD222              3                   39         1002\n",
              "2  AD222             11                   34         1003\n",
              "3  AD222              4                   33         1004\n",
              "4  AD222              5                   33         1005"
            ],
            "text/html": [
              "\n",
              "  <div id=\"df-c3bf1a46-94da-4835-a44b-b8705d381b30\" class=\"colab-df-container\">\n",
              "    <div>\n",
              "<style scoped>\n",
              "    .dataframe tbody tr th:only-of-type {\n",
              "        vertical-align: middle;\n",
              "    }\n",
              "\n",
              "    .dataframe tbody tr th {\n",
              "        vertical-align: top;\n",
              "    }\n",
              "\n",
              "    .dataframe thead th {\n",
              "        text-align: right;\n",
              "    }\n",
              "</style>\n",
              "<table border=\"1\" class=\"dataframe\">\n",
              "  <thead>\n",
              "    <tr style=\"text-align: right;\">\n",
              "      <th></th>\n",
              "      <th>BookID</th>\n",
              "      <th>CheckoutMonth</th>\n",
              "      <th>Number of Checkouts</th>\n",
              "      <th>checkout_id</th>\n",
              "    </tr>\n",
              "  </thead>\n",
              "  <tbody>\n",
              "    <tr>\n",
              "      <th>0</th>\n",
              "      <td>AD222</td>\n",
              "      <td>1</td>\n",
              "      <td>40</td>\n",
              "      <td>1001</td>\n",
              "    </tr>\n",
              "    <tr>\n",
              "      <th>1</th>\n",
              "      <td>AD222</td>\n",
              "      <td>3</td>\n",
              "      <td>39</td>\n",
              "      <td>1002</td>\n",
              "    </tr>\n",
              "    <tr>\n",
              "      <th>2</th>\n",
              "      <td>AD222</td>\n",
              "      <td>11</td>\n",
              "      <td>34</td>\n",
              "      <td>1003</td>\n",
              "    </tr>\n",
              "    <tr>\n",
              "      <th>3</th>\n",
              "      <td>AD222</td>\n",
              "      <td>4</td>\n",
              "      <td>33</td>\n",
              "      <td>1004</td>\n",
              "    </tr>\n",
              "    <tr>\n",
              "      <th>4</th>\n",
              "      <td>AD222</td>\n",
              "      <td>5</td>\n",
              "      <td>33</td>\n",
              "      <td>1005</td>\n",
              "    </tr>\n",
              "  </tbody>\n",
              "</table>\n",
              "</div>\n",
              "    <div class=\"colab-df-buttons\">\n",
              "\n",
              "  <div class=\"colab-df-container\">\n",
              "    <button class=\"colab-df-convert\" onclick=\"convertToInteractive('df-c3bf1a46-94da-4835-a44b-b8705d381b30')\"\n",
              "            title=\"Convert this dataframe to an interactive table.\"\n",
              "            style=\"display:none;\">\n",
              "\n",
              "  <svg xmlns=\"http://www.w3.org/2000/svg\" height=\"24px\" viewBox=\"0 -960 960 960\">\n",
              "    <path d=\"M120-120v-720h720v720H120Zm60-500h600v-160H180v160Zm220 220h160v-160H400v160Zm0 220h160v-160H400v160ZM180-400h160v-160H180v160Zm440 0h160v-160H620v160ZM180-180h160v-160H180v160Zm440 0h160v-160H620v160Z\"/>\n",
              "  </svg>\n",
              "    </button>\n",
              "\n",
              "  <style>\n",
              "    .colab-df-container {\n",
              "      display:flex;\n",
              "      gap: 12px;\n",
              "    }\n",
              "\n",
              "    .colab-df-convert {\n",
              "      background-color: #E8F0FE;\n",
              "      border: none;\n",
              "      border-radius: 50%;\n",
              "      cursor: pointer;\n",
              "      display: none;\n",
              "      fill: #1967D2;\n",
              "      height: 32px;\n",
              "      padding: 0 0 0 0;\n",
              "      width: 32px;\n",
              "    }\n",
              "\n",
              "    .colab-df-convert:hover {\n",
              "      background-color: #E2EBFA;\n",
              "      box-shadow: 0px 1px 2px rgba(60, 64, 67, 0.3), 0px 1px 3px 1px rgba(60, 64, 67, 0.15);\n",
              "      fill: #174EA6;\n",
              "    }\n",
              "\n",
              "    .colab-df-buttons div {\n",
              "      margin-bottom: 4px;\n",
              "    }\n",
              "\n",
              "    [theme=dark] .colab-df-convert {\n",
              "      background-color: #3B4455;\n",
              "      fill: #D2E3FC;\n",
              "    }\n",
              "\n",
              "    [theme=dark] .colab-df-convert:hover {\n",
              "      background-color: #434B5C;\n",
              "      box-shadow: 0px 1px 3px 1px rgba(0, 0, 0, 0.15);\n",
              "      filter: drop-shadow(0px 1px 2px rgba(0, 0, 0, 0.3));\n",
              "      fill: #FFFFFF;\n",
              "    }\n",
              "  </style>\n",
              "\n",
              "    <script>\n",
              "      const buttonEl =\n",
              "        document.querySelector('#df-c3bf1a46-94da-4835-a44b-b8705d381b30 button.colab-df-convert');\n",
              "      buttonEl.style.display =\n",
              "        google.colab.kernel.accessAllowed ? 'block' : 'none';\n",
              "\n",
              "      async function convertToInteractive(key) {\n",
              "        const element = document.querySelector('#df-c3bf1a46-94da-4835-a44b-b8705d381b30');\n",
              "        const dataTable =\n",
              "          await google.colab.kernel.invokeFunction('convertToInteractive',\n",
              "                                                    [key], {});\n",
              "        if (!dataTable) return;\n",
              "\n",
              "        const docLinkHtml = 'Like what you see? Visit the ' +\n",
              "          '<a target=\"_blank\" href=https://colab.research.google.com/notebooks/data_table.ipynb>data table notebook</a>'\n",
              "          + ' to learn more about interactive tables.';\n",
              "        element.innerHTML = '';\n",
              "        dataTable['output_type'] = 'display_data';\n",
              "        await google.colab.output.renderOutput(dataTable, element);\n",
              "        const docLink = document.createElement('div');\n",
              "        docLink.innerHTML = docLinkHtml;\n",
              "        element.appendChild(docLink);\n",
              "      }\n",
              "    </script>\n",
              "  </div>\n",
              "\n",
              "\n",
              "<div id=\"df-1a1e1881-8acb-4d53-bb9b-ed483cc518cb\">\n",
              "  <button class=\"colab-df-quickchart\" onclick=\"quickchart('df-1a1e1881-8acb-4d53-bb9b-ed483cc518cb')\"\n",
              "            title=\"Suggest charts\"\n",
              "            style=\"display:none;\">\n",
              "\n",
              "<svg xmlns=\"http://www.w3.org/2000/svg\" height=\"24px\"viewBox=\"0 0 24 24\"\n",
              "     width=\"24px\">\n",
              "    <g>\n",
              "        <path d=\"M19 3H5c-1.1 0-2 .9-2 2v14c0 1.1.9 2 2 2h14c1.1 0 2-.9 2-2V5c0-1.1-.9-2-2-2zM9 17H7v-7h2v7zm4 0h-2V7h2v10zm4 0h-2v-4h2v4z\"/>\n",
              "    </g>\n",
              "</svg>\n",
              "  </button>\n",
              "\n",
              "<style>\n",
              "  .colab-df-quickchart {\n",
              "      --bg-color: #E8F0FE;\n",
              "      --fill-color: #1967D2;\n",
              "      --hover-bg-color: #E2EBFA;\n",
              "      --hover-fill-color: #174EA6;\n",
              "      --disabled-fill-color: #AAA;\n",
              "      --disabled-bg-color: #DDD;\n",
              "  }\n",
              "\n",
              "  [theme=dark] .colab-df-quickchart {\n",
              "      --bg-color: #3B4455;\n",
              "      --fill-color: #D2E3FC;\n",
              "      --hover-bg-color: #434B5C;\n",
              "      --hover-fill-color: #FFFFFF;\n",
              "      --disabled-bg-color: #3B4455;\n",
              "      --disabled-fill-color: #666;\n",
              "  }\n",
              "\n",
              "  .colab-df-quickchart {\n",
              "    background-color: var(--bg-color);\n",
              "    border: none;\n",
              "    border-radius: 50%;\n",
              "    cursor: pointer;\n",
              "    display: none;\n",
              "    fill: var(--fill-color);\n",
              "    height: 32px;\n",
              "    padding: 0;\n",
              "    width: 32px;\n",
              "  }\n",
              "\n",
              "  .colab-df-quickchart:hover {\n",
              "    background-color: var(--hover-bg-color);\n",
              "    box-shadow: 0 1px 2px rgba(60, 64, 67, 0.3), 0 1px 3px 1px rgba(60, 64, 67, 0.15);\n",
              "    fill: var(--button-hover-fill-color);\n",
              "  }\n",
              "\n",
              "  .colab-df-quickchart-complete:disabled,\n",
              "  .colab-df-quickchart-complete:disabled:hover {\n",
              "    background-color: var(--disabled-bg-color);\n",
              "    fill: var(--disabled-fill-color);\n",
              "    box-shadow: none;\n",
              "  }\n",
              "\n",
              "  .colab-df-spinner {\n",
              "    border: 2px solid var(--fill-color);\n",
              "    border-color: transparent;\n",
              "    border-bottom-color: var(--fill-color);\n",
              "    animation:\n",
              "      spin 1s steps(1) infinite;\n",
              "  }\n",
              "\n",
              "  @keyframes spin {\n",
              "    0% {\n",
              "      border-color: transparent;\n",
              "      border-bottom-color: var(--fill-color);\n",
              "      border-left-color: var(--fill-color);\n",
              "    }\n",
              "    20% {\n",
              "      border-color: transparent;\n",
              "      border-left-color: var(--fill-color);\n",
              "      border-top-color: var(--fill-color);\n",
              "    }\n",
              "    30% {\n",
              "      border-color: transparent;\n",
              "      border-left-color: var(--fill-color);\n",
              "      border-top-color: var(--fill-color);\n",
              "      border-right-color: var(--fill-color);\n",
              "    }\n",
              "    40% {\n",
              "      border-color: transparent;\n",
              "      border-right-color: var(--fill-color);\n",
              "      border-top-color: var(--fill-color);\n",
              "    }\n",
              "    60% {\n",
              "      border-color: transparent;\n",
              "      border-right-color: var(--fill-color);\n",
              "    }\n",
              "    80% {\n",
              "      border-color: transparent;\n",
              "      border-right-color: var(--fill-color);\n",
              "      border-bottom-color: var(--fill-color);\n",
              "    }\n",
              "    90% {\n",
              "      border-color: transparent;\n",
              "      border-bottom-color: var(--fill-color);\n",
              "    }\n",
              "  }\n",
              "</style>\n",
              "\n",
              "  <script>\n",
              "    async function quickchart(key) {\n",
              "      const quickchartButtonEl =\n",
              "        document.querySelector('#' + key + ' button');\n",
              "      quickchartButtonEl.disabled = true;  // To prevent multiple clicks.\n",
              "      quickchartButtonEl.classList.add('colab-df-spinner');\n",
              "      try {\n",
              "        const charts = await google.colab.kernel.invokeFunction(\n",
              "            'suggestCharts', [key], {});\n",
              "      } catch (error) {\n",
              "        console.error('Error during call to suggestCharts:', error);\n",
              "      }\n",
              "      quickchartButtonEl.classList.remove('colab-df-spinner');\n",
              "      quickchartButtonEl.classList.add('colab-df-quickchart-complete');\n",
              "    }\n",
              "    (() => {\n",
              "      let quickchartButtonEl =\n",
              "        document.querySelector('#df-1a1e1881-8acb-4d53-bb9b-ed483cc518cb button');\n",
              "      quickchartButtonEl.style.display =\n",
              "        google.colab.kernel.accessAllowed ? 'block' : 'none';\n",
              "    })();\n",
              "  </script>\n",
              "</div>\n",
              "\n",
              "    </div>\n",
              "  </div>\n"
            ],
            "application/vnd.google.colaboratory.intrinsic+json": {
              "type": "dataframe",
              "variable_name": "df",
              "summary": "{\n  \"name\": \"df\",\n  \"rows\": 656,\n  \"fields\": [\n    {\n      \"column\": \"BookID\",\n      \"properties\": {\n        \"dtype\": \"category\",\n        \"num_unique_values\": 56,\n        \"samples\": [\n          \"AD222\",\n          \"BC244\",\n          \"TH556\"\n        ],\n        \"semantic_type\": \"\",\n        \"description\": \"\"\n      }\n    },\n    {\n      \"column\": \"CheckoutMonth\",\n      \"properties\": {\n        \"dtype\": \"number\",\n        \"std\": 3,\n        \"min\": 1,\n        \"max\": 12,\n        \"num_unique_values\": 12,\n        \"samples\": [\n          8,\n          2,\n          1\n        ],\n        \"semantic_type\": \"\",\n        \"description\": \"\"\n      }\n    },\n    {\n      \"column\": \"Number of Checkouts\",\n      \"properties\": {\n        \"dtype\": \"number\",\n        \"std\": 23,\n        \"min\": 2,\n        \"max\": 130,\n        \"num_unique_values\": 85,\n        \"samples\": [\n          126,\n          40,\n          114\n        ],\n        \"semantic_type\": \"\",\n        \"description\": \"\"\n      }\n    },\n    {\n      \"column\": \"checkout_id\",\n      \"properties\": {\n        \"dtype\": \"number\",\n        \"std\": 189,\n        \"min\": 1001,\n        \"max\": 1656,\n        \"num_unique_values\": 656,\n        \"samples\": [\n          1193,\n          1266,\n          1102\n        ],\n        \"semantic_type\": \"\",\n        \"description\": \"\"\n      }\n    }\n  ]\n}"
            }
          },
          "metadata": {},
          "execution_count": 511
        }
      ]
    },
    {
      "cell_type": "code",
      "source": [
        "df = pd.read_csv('/content/Bookshop_dataset/Series.csv')\n",
        "\n",
        "df['Planned Volumes'] = df['Planned Volumes'].astype(int)\n",
        "df['Book Tour Events'] = df['Book Tour Events'].astype(int)\n",
        "\n",
        "df.to_csv('/content/Bookshop_dataset/Series_modified.csv', index=False)"
      ],
      "metadata": {
        "id": "2p2Z5urfK73P"
      },
      "execution_count": 512,
      "outputs": []
    },
    {
      "cell_type": "code",
      "source": [
        "df = pd.read_csv('/content/Bookshop_dataset/Authors_modified.csv')\n",
        "# print(df.columns)\n",
        "df.rename(columns = {'AuthID':'author_id',\n",
        "                     'First Name':'first_name',\n",
        "                     'Last Name':'last_name',\n",
        "                     'Birthday':'birthday',\n",
        "                     'Country of Residence':'country_of_residence',\n",
        "                     'Hrs Writing per Day':'hours_writing_per_day'\n",
        "                     }, inplace = True)\n",
        "# print(df.columns)\n",
        "print(df.head())\n",
        "df.to_csv('/content/Bookshop_dataset/Authors_modified.csv', index=False)"
      ],
      "metadata": {
        "colab": {
          "base_uri": "https://localhost:8080/"
        },
        "id": "vZC0b4FLeg1g",
        "outputId": "ff9163a9-f672-4368-b73c-21f860b41a2c"
      },
      "execution_count": 513,
      "outputs": [
        {
          "output_type": "stream",
          "name": "stdout",
          "text": [
            "  author_id first_name      last_name    birthday country_of_residence  \\\n",
            "0     AS443    Abraham     Stackhouse  1909-07-01               Norway   \n",
            "1     AW980     Amelia  Wangerin, Jr.  1903-03-26          New Zealand   \n",
            "2     AI923  Anastasia           Inez  1910-03-30          New Zealand   \n",
            "3     AM329     Arthur        McCrumb  1910-03-13          New Zealand   \n",
            "4     AH957     Arturo       Hijuelos  1891-01-09       United Kingdom   \n",
            "\n",
            "   hours_writing_per_day  \n",
            "0                    6.0  \n",
            "1                   16.0  \n",
            "2                   11.0  \n",
            "3                    3.0  \n",
            "4                    8.0  \n"
          ]
        }
      ]
    },
    {
      "cell_type": "code",
      "source": [
        "df = pd.read_csv('/content/Bookshop_dataset/Series_modified.csv')\n",
        "# print(df.columns)\n",
        "df.rename(columns = {'SeriesID':'series_id',\n",
        "                     'Series Name':'series_name',\n",
        "                     'Planned Volumes':'planned_volumes',\n",
        "                     'Book Tour Events':'book_tour_events'\n",
        "                     }, inplace = True)\n",
        "# print(df.columns)\n",
        "print(df.head())\n",
        "df.to_csv('/content/Bookshop_dataset/Series_modified.csv', index=False)"
      ],
      "metadata": {
        "colab": {
          "base_uri": "https://localhost:8080/"
        },
        "id": "edHW-1vl40HX",
        "outputId": "5204ca66-bdb3-4d1d-b189-44a2680e586d"
      },
      "execution_count": 514,
      "outputs": [
        {
          "output_type": "stream",
          "name": "stdout",
          "text": [
            "  series_id             series_name  planned_volumes  book_tour_events\n",
            "0    BS-CHP             Banana Slug                5                24\n",
            "1    MT-ESP         Meddler Trilogy                3                17\n",
            "2    EL-SSC           Esme's Ladies                7                15\n",
            "3    MM-ESP  The Mallemaroking Saga                3                32\n",
            "4    IR-ESP      Inspector Ryeslton                4                19\n"
          ]
        }
      ]
    },
    {
      "cell_type": "code",
      "source": [
        "df = pd.read_csv('/content/Bookshop_dataset/Books_modified.csv')\n",
        "# print(df.columns)\n",
        "column_order = ['BookID', 'Title', 'AuthID', 'SeriesID', 'Genre', 'Volume Number', 'Staff Comment']\n",
        "df = df[column_order]\n",
        "df.rename(columns = {'BookID':'book_id',\n",
        "                     'Title':'title',\n",
        "                     'AuthID':'author_id',\n",
        "                     'SeriesID':'series_id',\n",
        "                     'Genre':'genre',\n",
        "                     'Volume Number':'volume_number',\n",
        "                     'Staff Comment':'comments'\n",
        "                     }, inplace = True)\n",
        "# print(df.columns)\n",
        "print(df.head())\n",
        "df.to_csv('/content/Bookshop_dataset/Books_modified.csv', index=False)"
      ],
      "metadata": {
        "colab": {
          "base_uri": "https://localhost:8080/"
        },
        "id": "fmRjQK0K42ub",
        "outputId": "dd781035-6de2-462f-b081-367741ec35e5"
      },
      "execution_count": 515,
      "outputs": [
        {
          "output_type": "stream",
          "name": "stdout",
          "text": [
            "  book_id                 title author_id series_id          genre  \\\n",
            "0   BB194         Ballinby Boys     AM329       NaN  SciFi/Fantasy   \n",
            "1   NC652    Nothing But Capers     AS443       NaN     Nonfiction   \n",
            "2   AD222  Alanna Saves the Day     BH149       NaN      Childrens   \n",
            "3   PA169            Post Alley     BM856       NaN        Fiction   \n",
            "4   TC188    Thatchwork Cottage     BM856       NaN        Fiction   \n",
            "\n",
            "   volume_number                                           comments  \n",
            "0            NaN  What? Disaster. Where? The stars. When? Now. W...  \n",
            "1            NaN  When his wife set out to write her magnum opus...  \n",
            "2            NaN  Alanna didn't expect this Tuesday to be any di...  \n",
            "3            NaN                                                NaN  \n",
            "4            NaN                                                NaN  \n"
          ]
        }
      ]
    },
    {
      "cell_type": "code",
      "source": [
        "df = pd.read_csv('/content/Bookshop_dataset/Publishers_modified.csv')\n",
        "# print(df.columns)\n",
        "df.rename(columns = {'PubID':'publisher_id',\n",
        "                     'Publishing House':'publishing_house',\n",
        "                     'City':'city',\n",
        "                     'State':'state',\n",
        "                     'Country':'country',\n",
        "                     'Year Established':'year_established',\n",
        "                     'Marketing Spend':'marketing_spend'\n",
        "                     }, inplace = True)\n",
        "# print(df.columns)\n",
        "print(df.head())\n",
        "df.to_csv('/content/Bookshop_dataset/Publishers_modified.csv', index=False)"
      ],
      "metadata": {
        "colab": {
          "base_uri": "https://localhost:8080/"
        },
        "id": "EcI6PDza45iK",
        "outputId": "85984e6a-837f-4e04-9091-d32c6c988152"
      },
      "execution_count": 516,
      "outputs": [
        {
          "output_type": "stream",
          "name": "stdout",
          "text": [
            "  publisher_id        publishing_house           city       state  \\\n",
            "0          CHP  Cedar House Publishers  Friday Harbor  Washington   \n",
            "1          SSC        Sound & Seas Co.        Dunedin       Otago   \n",
            "2           PP     Palimpsest Printing      Edinburgh    Scotland   \n",
            "3          ESP     Etaoin Shrdlu Press        Seattle  Washington   \n",
            "\n",
            "       country  year_established  marketing_spend  \n",
            "0          USA              1916            72000  \n",
            "1  New Zealand              1983           151000  \n",
            "2           UK              1812            48000  \n",
            "3          USA              1899          2320000  \n"
          ]
        }
      ]
    },
    {
      "cell_type": "code",
      "source": [
        "df = pd.read_csv('/content/Bookshop_dataset/Ratings_modified.csv')\n",
        "# print(df.columns)'\n",
        "column_order = ['ReviewID', 'ReviewerID', 'BookID', 'Rating']\n",
        "df = df[column_order]\n",
        "df.rename(columns = {'ReviewID':'review_id',\n",
        "                     'ReviewerID':'reviewer_id',\n",
        "                     'BookID':'book_id',\n",
        "                     'Rating':'rating'\n",
        "                     }, inplace = True)\n",
        "# print(df.columns)\n",
        "print(df.head())\n",
        "df.to_csv('/content/Bookshop_dataset/Ratings_modified.csv', index=False)"
      ],
      "metadata": {
        "colab": {
          "base_uri": "https://localhost:8080/"
        },
        "id": "jxj8UAtf48C_",
        "outputId": "96f34c40-61ad-4305-8319-017ad332c37d"
      },
      "execution_count": 517,
      "outputs": [
        {
          "output_type": "stream",
          "name": "stdout",
          "text": [
            "   review_id  reviewer_id book_id  rating\n",
            "0       3372          105   AD222       5\n",
            "1       7340          113   AD222       3\n",
            "2      20430          234   AD222       3\n",
            "3      40653          459   AD222       4\n",
            "4      51337          550   AD222       2\n"
          ]
        }
      ]
    },
    {
      "cell_type": "code",
      "source": [
        "df = pd.read_csv('/content/Bookshop_dataset/Awards_modified.csv')\n",
        "# print(df.columns)\n",
        "df.rename(columns = {'BookID':'book_id',\n",
        "                     'Award Name':'award_name',\n",
        "                     'Year Won':'year_won'\n",
        "                     }, inplace = True)\n",
        "# print(df.columns)\n",
        "print(df.head())\n",
        "df.to_csv('/content/Bookshop_dataset/Awards_modified.csv', index=False)"
      ],
      "metadata": {
        "colab": {
          "base_uri": "https://localhost:8080/"
        },
        "id": "nBTuTXsJ4-Gv",
        "outputId": "dc8483a0-9b71-4583-f99b-aa7477025eb7"
      },
      "execution_count": 518,
      "outputs": [
        {
          "output_type": "stream",
          "name": "stdout",
          "text": [
            "  book_id           award_name  year_won\n",
            "0   BB194  World Fantasy Award      2010\n",
            "1   NC652  National Book Award      2009\n",
            "2   AD222      Caldecott Medal      2016\n",
            "3   PA169         Agatha Award      2009\n",
            "4   PP866           Hugo Award      2018\n"
          ]
        }
      ]
    },
    {
      "cell_type": "code",
      "source": [
        "df = pd.read_csv('/content/Bookshop_dataset/Editions_modified.csv')\n",
        "# print(df.columns)\n",
        "column_order = ['ISBN', 'BookID', 'PubID', 'Publication Date', 'Format', 'Print Run Size (k)', 'Pages', 'Price']\n",
        "df = df[column_order]\n",
        "df.rename(columns = {'ISBN':'isbn',\n",
        "                     'BookID':'book_id',\n",
        "                     'PubID':'publisher_id',\n",
        "                     'Publication Date':'publication_date',\n",
        "                     'Format':'format',\n",
        "                     'Print Run Size (k)':'print_run_size',\n",
        "                     'Pages':'pages',\n",
        "                     'Price':'price'\n",
        "                     }, inplace = True)\n",
        "# print(df.columns)\n",
        "print(df.head())\n",
        "df.to_csv('/content/Bookshop_dataset/Editions_modified.csv', index=False)"
      ],
      "metadata": {
        "colab": {
          "base_uri": "https://localhost:8080/"
        },
        "id": "zRvRmJpX5BLz",
        "outputId": "3a78f81f-c99e-47d8-d4c1-f618c5fee075"
      },
      "execution_count": 519,
      "outputs": [
        {
          "output_type": "stream",
          "name": "stdout",
          "text": [
            "                isbn book_id publisher_id publication_date     format  \\\n",
            "0  989-28-79-70597-8   TT359          ESP       2008-06-02  Hardcover   \n",
            "1  989-28-654-6930-3   NP937           PP       2008-08-18  Hardcover   \n",
            "2  989-28-79-52883-6   PA169           PP       2008-09-08  Hardcover   \n",
            "3  989-28-79-43574-5   TM925          ESP       2008-09-15    Graphic   \n",
            "4  989-28-654-5794-2   HS107           PP       2008-09-29  Hardcover   \n",
            "\n",
            "   print_run_size  pages  price  \n",
            "0              15    277  27.99  \n",
            "1               6    394  30.99  \n",
            "2              10    384  27.99  \n",
            "3               8    187  23.99  \n",
            "4               3    640  26.99  \n"
          ]
        }
      ]
    },
    {
      "cell_type": "code",
      "source": [
        "df = pd.read_csv('/content/Bookshop_dataset/Checkouts_modified.csv')\n",
        "# print(df.columns)\n",
        "column_order = ['checkout_id', 'BookID', 'CheckoutMonth', 'Number of Checkouts']\n",
        "df = df[column_order]\n",
        "df.rename(columns = {'BookID':'book_id',\n",
        "                     'CheckoutMonth':'checkout_month',\n",
        "                     'Number of Checkouts':'checkout_count',\n",
        "                     'checkout_id':'checkout_id'\n",
        "                     }, inplace = True)\n",
        "\n",
        "# print(df.columns)\n",
        "print(df.head())\n",
        "df.to_csv('/content/Bookshop_dataset/Checkouts_modified.csv', index=False)"
      ],
      "metadata": {
        "colab": {
          "base_uri": "https://localhost:8080/"
        },
        "id": "Mv4_TQRK5Dl1",
        "outputId": "cd9fdc2d-2fa6-409f-ed20-8ee7e33fc284"
      },
      "execution_count": 520,
      "outputs": [
        {
          "output_type": "stream",
          "name": "stdout",
          "text": [
            "   checkout_id book_id  checkout_month  checkout_count\n",
            "0         1001   AD222               1              40\n",
            "1         1002   AD222               3              39\n",
            "2         1003   AD222              11              34\n",
            "3         1004   AD222               4              33\n",
            "4         1005   AD222               5              33\n"
          ]
        }
      ]
    },
    {
      "cell_type": "code",
      "source": [
        "df = pd.read_csv('/content/Bookshop_dataset/Sales_modified.csv')\n",
        "# print(df.columns)\n",
        "df.rename(columns = {'OrderID':'order_id',\n",
        "                     'ItemID':'item_id',\n",
        "                     'ISBN':'isbn',\n",
        "                     'Sale Date':'order_date',\n",
        "                     'Discount':'discount'\n",
        "                     }, inplace = True)\n",
        "\n",
        "# print(df.columns)\n",
        "print(df.head())\n",
        "df.to_csv('/content/Bookshop_dataset/Sales_modified.csv', index=False)"
      ],
      "metadata": {
        "colab": {
          "base_uri": "https://localhost:8080/"
        },
        "id": "ZHYWPlOq5Ftl",
        "outputId": "8e865ab2-4895-4a35-9e3f-a9bf6ea9215c"
      },
      "execution_count": 521,
      "outputs": [
        {
          "output_type": "stream",
          "name": "stdout",
          "text": [
            "   order_date               isbn  discount         item_id   order_id\n",
            "0  2023-01-02  989-28-3705-007-2       NaN  107020-91-8011   107020-1\n",
            "1  2023-01-02  989-28-79-11297-4       NaN   107020-9-3293  107020-10\n",
            "2  2023-01-02  989-28-79-11297-4       NaN  107020-91-4622  107020-11\n",
            "3  2023-01-02  989-28-79-18127-7       NaN  107020-38-4663  107020-12\n",
            "4  2023-01-02  989-28-79-82197-5      0.15   107020-1-1485  107020-13\n"
          ]
        }
      ]
    },
    {
      "cell_type": "code",
      "source": [
        "df = pd.read_csv('/content/Bookshop_dataset/Orders.csv')\n",
        "# print(df.columns)\n",
        "column_order = ['OrderID', 'Sale Date']\n",
        "df = df[column_order]\n",
        "df.rename(columns = {'OrderID':'order_id',\n",
        "                     'Sale Date':'order_date'\n",
        "                     }, inplace = True)\n",
        "\n",
        "# print(df.columns)\n",
        "print(df.head())\n",
        "df.to_csv('/content/Bookshop_dataset/Orders.csv', index=False)"
      ],
      "metadata": {
        "colab": {
          "base_uri": "https://localhost:8080/"
        },
        "id": "O61QapTx5Hpi",
        "outputId": "a06a287d-c6a0-4778-bcb4-bbe3bebe85d8"
      },
      "execution_count": 522,
      "outputs": [
        {
          "output_type": "stream",
          "name": "stdout",
          "text": [
            "    order_id  order_date\n",
            "0   107020-1  2023-01-02\n",
            "1  107020-10  2023-01-02\n",
            "2  107020-11  2023-01-02\n",
            "3  107020-12  2023-01-02\n",
            "4  107020-13  2023-01-02\n"
          ]
        }
      ]
    },
    {
      "cell_type": "code",
      "source": [
        "df = pd.read_csv('/content/Bookshop_dataset/Items.csv')\n",
        "# print(df.columns)\n",
        "column_order = ['ItemID', 'OrderID', 'ISBN', 'Discount']\n",
        "df = df[column_order]\n",
        "df.rename(columns = {'OrderID':'order_id',\n",
        "                     'ItemID':'item_id',\n",
        "                     'ISBN':'isbn',\n",
        "                     'Discount':'discount'\n",
        "                     }, inplace = True)\n",
        "\n",
        "# print(df.columns)\n",
        "print(df.head())\n",
        "df.to_csv('/content/Bookshop_dataset/Items.csv', index=False)"
      ],
      "metadata": {
        "colab": {
          "base_uri": "https://localhost:8080/"
        },
        "id": "fMag2DfF5KQ0",
        "outputId": "67f2358a-7f2f-4d95-eded-eb08e09eec52"
      },
      "execution_count": 523,
      "outputs": [
        {
          "output_type": "stream",
          "name": "stdout",
          "text": [
            "          item_id   order_id               isbn  discount\n",
            "0  107020-91-8011   107020-1  989-28-3705-007-2       NaN\n",
            "1   107020-9-3293  107020-10  989-28-79-11297-4       NaN\n",
            "2  107020-91-4622  107020-11  989-28-79-11297-4       NaN\n",
            "3  107020-38-4663  107020-12  989-28-79-18127-7       NaN\n",
            "4   107020-1-1485  107020-13  989-28-79-82197-5      0.15\n"
          ]
        }
      ]
    },
    {
      "cell_type": "code",
      "source": [
        "import zipfile\n",
        "import os\n",
        "\n",
        "def zip_folder(folder_path, zip_path):\n",
        "    with zipfile.ZipFile(zip_path, 'w', zipfile.ZIP_DEFLATED) as zipf:\n",
        "        for root, _, files in os.walk(folder_path):\n",
        "            for file in files:\n",
        "                file_path = os.path.join(root, file)\n",
        "                arc_name = os.path.relpath(file_path, os.path.dirname(folder_path))\n",
        "                zipf.write(file_path, arc_name)\n",
        "\n",
        "# Specify the folder to be zipped\n",
        "folder_to_zip = '/content/Bookshop_dataset'\n",
        "\n",
        "# Specify the path for the zip file to be created\n",
        "zip_file_path = '/content/Bookshop_dataset.zip'\n",
        "\n",
        "# Call the function to zip the folder\n",
        "zip_folder(folder_to_zip, zip_file_path)\n",
        "\n",
        "print(f'Folder \"{folder_to_zip}\" has been zipped to \"{zip_file_path}\"')"
      ],
      "metadata": {
        "colab": {
          "base_uri": "https://localhost:8080/"
        },
        "id": "tqlMHyQPxMud",
        "outputId": "449b31d8-833b-47c2-a87e-9c96b9f40ef0"
      },
      "execution_count": 524,
      "outputs": [
        {
          "output_type": "stream",
          "name": "stdout",
          "text": [
            "Folder \"/content/Bookshop_dataset\" has been zipped to \"/content/Bookshop_dataset.zip\"\n"
          ]
        }
      ]
    },
    {
      "cell_type": "code",
      "source": [],
      "metadata": {
        "id": "f8v9WSjZqMTM"
      },
      "execution_count": 524,
      "outputs": []
    }
  ]
}